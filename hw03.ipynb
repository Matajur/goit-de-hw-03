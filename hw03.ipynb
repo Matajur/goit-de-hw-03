{
 "cells": [
  {
   "cell_type": "markdown",
   "metadata": {},
   "source": [
    "# Tier 2. Module 6 - Data Engineering. Homework"
   ]
  },
  {
   "cell_type": "markdown",
   "metadata": {},
   "source": [
    "\n",
    "## Lessons 01-03. Data analysis in PySpark"
   ]
  },
  {
   "cell_type": "markdown",
   "metadata": {},
   "source": [
    "You will need to perform various data processing operations in Spark, as well as develop your analytical and programming skills. This task will help you learn the basic concepts and syntax of working with Apache Spark, and learn how to apply this knowledge in practice for data processing."
   ]
  },
  {
   "cell_type": "markdown",
   "metadata": {},
   "source": [
    "### Input data\n",
    "\n",
    "1. users.csv — user data:\n",
    "* user_id (unique user identifier)\n",
    "* name (user name)\n",
    "* age (user age)\n",
    "* email (email address)\n",
    "\n",
    "2. purchases.csv — purchase data:\n",
    "* purchase_id (unique purchase identifier)\n",
    "* user_id (user identifier who made the purchase)\n",
    "* product_id (unique product identifier)\n",
    "* date (purchase date)\n",
    "* quantity (number of units of the purchased product)\n",
    "\n",
    "3. products.csv — product information:\n",
    "* product_id (unique product identifier)\n",
    "* product_name (product name)\n",
    "* category (product category)\n",
    "* price (unit price of the product)"
   ]
  },
  {
   "cell_type": "markdown",
   "metadata": {},
   "source": [
    "### Technical task"
   ]
  },
  {
   "cell_type": "markdown",
   "metadata": {},
   "source": [
    "#### 1. Download and read each CSV file as a separate DataFrame"
   ]
  },
  {
   "cell_type": "code",
   "execution_count": 3,
   "metadata": {},
   "outputs": [
    {
     "data": {
      "text/plain": [
       "pyspark.sql.session.SparkSession"
      ]
     },
     "execution_count": 3,
     "metadata": {},
     "output_type": "execute_result"
    }
   ],
   "source": [
    "from pyspark.sql import SparkSession\n",
    "from pyspark.sql.functions import col, sum, round\n",
    "\n",
    "spark = SparkSession.builder.appName(\"DataProcessing\").getOrCreate()\n",
    "type(spark)"
   ]
  },
  {
   "cell_type": "code",
   "execution_count": 4,
   "metadata": {},
   "outputs": [],
   "source": [
    "users_df = spark.read.csv(\"input_data/users.csv\", header=True, inferSchema=True)\n",
    "purchases_df = spark.read.csv(\"input_data/purchases.csv\", header=True, inferSchema=True)\n",
    "products_df = spark.read.csv(\"input_data/products.csv\", header=True, inferSchema=True)"
   ]
  },
  {
   "cell_type": "code",
   "execution_count": 8,
   "metadata": {},
   "outputs": [
    {
     "name": "stdout",
     "output_type": "stream",
     "text": [
      "+-------+------+---+-----------------+\n",
      "|user_id|  name|age|            email|\n",
      "+-------+------+---+-----------------+\n",
      "|      1|User_1| 45|user1@example.com|\n",
      "|      2|User_2| 48|user2@example.com|\n",
      "|      3|User_3| 36|user3@example.com|\n",
      "|      4|User_4| 46|user4@example.com|\n",
      "|      5|User_5| 29|user5@example.com|\n",
      "+-------+------+---+-----------------+\n",
      "only showing top 5 rows\n",
      "\n"
     ]
    }
   ],
   "source": [
    "users_df.show(5)"
   ]
  },
  {
   "cell_type": "code",
   "execution_count": 9,
   "metadata": {},
   "outputs": [
    {
     "name": "stdout",
     "output_type": "stream",
     "text": [
      "+-----------+-------+----------+----------+--------+\n",
      "|purchase_id|user_id|product_id|      date|quantity|\n",
      "+-----------+-------+----------+----------+--------+\n",
      "|          1|     52|         9|2022-01-01|       1|\n",
      "|          2|     93|        37|2022-01-02|       8|\n",
      "|          3|     15|        33|2022-01-03|       1|\n",
      "|          4|     72|        42|2022-01-04|       9|\n",
      "|          5|     61|        44|2022-01-05|       6|\n",
      "+-----------+-------+----------+----------+--------+\n",
      "only showing top 5 rows\n",
      "\n"
     ]
    }
   ],
   "source": [
    "purchases_df.show(5)"
   ]
  },
  {
   "cell_type": "code",
   "execution_count": 10,
   "metadata": {},
   "outputs": [
    {
     "name": "stdout",
     "output_type": "stream",
     "text": [
      "+----------+------------+-----------+-----+\n",
      "|product_id|product_name|   category|price|\n",
      "+----------+------------+-----------+-----+\n",
      "|         1|   Product_1|     Beauty|  8.3|\n",
      "|         2|   Product_2|       Home|  8.3|\n",
      "|         3|   Product_3|Electronics|  9.2|\n",
      "|         4|   Product_4|Electronics|  2.6|\n",
      "|         5|   Product_5|Electronics|  9.4|\n",
      "+----------+------------+-----------+-----+\n",
      "only showing top 5 rows\n",
      "\n"
     ]
    }
   ],
   "source": [
    "products_df.show(5)"
   ]
  },
  {
   "cell_type": "markdown",
   "metadata": {},
   "source": [
    "#### 2. Clean up the data by removing any rows with missing values"
   ]
  },
  {
   "cell_type": "code",
   "execution_count": 11,
   "metadata": {},
   "outputs": [],
   "source": [
    "users_df = users_df.dropna()\n",
    "purchases_df = purchases_df.dropna()\n",
    "products_df = products_df.dropna()"
   ]
  },
  {
   "cell_type": "markdown",
   "metadata": {},
   "source": [
    "#### 3. Determine the total amount of purchases for each product category"
   ]
  },
  {
   "cell_type": "code",
   "execution_count": 29,
   "metadata": {},
   "outputs": [
    {
     "name": "stdout",
     "output_type": "stream",
     "text": [
      "+-----------+---------------------+\n",
      "|   category|total_purchase_amount|\n",
      "+-----------+---------------------+\n",
      "|       Home|               1523.5|\n",
      "|     Sports|               1802.5|\n",
      "|Electronics|               1174.8|\n",
      "|   Clothing|                790.3|\n",
      "|     Beauty|                459.9|\n",
      "+-----------+---------------------+\n",
      "\n"
     ]
    }
   ],
   "source": [
    "purchases_products_df = purchases_df.join(products_df, \"product_id\", \"inner\")\n",
    "\n",
    "purchases_by_category = purchases_products_df.groupBy(\"category\").agg(\n",
    "    round(sum(col(\"quantity\") * col(\"price\")), 2).alias(\"total_purchase_amount\")\n",
    ")\n",
    "purchases_by_category.show()"
   ]
  },
  {
   "cell_type": "markdown",
   "metadata": {},
   "source": [
    "#### 4. Determine the amount of purchases for each product category for the age group 18 to 25 inclusive"
   ]
  },
  {
   "cell_type": "code",
   "execution_count": 31,
   "metadata": {},
   "outputs": [
    {
     "name": "stdout",
     "output_type": "stream",
     "text": [
      "+-----------+---------------------+\n",
      "|   category|total_purchases_18_25|\n",
      "+-----------+---------------------+\n",
      "|       Home|                174.7|\n",
      "|     Sports|                310.5|\n",
      "|Electronics|                176.0|\n",
      "|   Clothing|                245.0|\n",
      "|     Beauty|                 41.4|\n",
      "+-----------+---------------------+\n",
      "\n"
     ]
    }
   ],
   "source": [
    "purchases_products_users_df = purchases_products_df.join(users_df, \"user_id\", \"inner\")\n",
    "\n",
    "purchases_18_25 = purchases_products_users_df.filter(\n",
    "    (col(\"age\") > 18) & (col(\"age\") <= 25)\n",
    ")\n",
    "purchases_by_category_18_25 = purchases_18_25.groupBy(\"category\").agg(\n",
    "    round(sum(col(\"quantity\") * col(\"price\")), 2).alias(\"total_purchases_18_25\")\n",
    ")\n",
    "purchases_by_category_18_25.show()"
   ]
  },
  {
   "cell_type": "markdown",
   "metadata": {},
   "source": [
    "#### 5. Determine the share of purchases for each product category of the total spending for the age group 18 to 25"
   ]
  },
  {
   "cell_type": "code",
   "execution_count": null,
   "metadata": {},
   "outputs": [
    {
     "name": "stdout",
     "output_type": "stream",
     "text": [
      "+-----------+---------------------+---------------------+--------------------+\n",
      "|   category|total_purchases_18_25|total_purchase_amount|spending_share_18_25|\n",
      "+-----------+---------------------+---------------------+--------------------+\n",
      "|       Home|                174.7|               1523.5|               11.47|\n",
      "|     Sports|                310.5|               1802.5|               17.23|\n",
      "|Electronics|                176.0|               1174.8|               14.98|\n",
      "|   Clothing|                245.0|                790.3|                31.0|\n",
      "|     Beauty|                 41.4|                459.9|                 9.0|\n",
      "+-----------+---------------------+---------------------+--------------------+\n",
      "\n"
     ]
    }
   ],
   "source": [
    "purchases_share_df = purchases_by_category_18_25.join(purchases_by_category, \"category\")\n",
    "\n",
    "purchases_share_df = purchases_share_df.withColumn(\n",
    "    \"spending_share_18_25\",\n",
    "    round((col(\"total_purchases_18_25\") / col(\"total_purchase_amount\")) * 100, 2),\n",
    ")\n",
    "purchases_share_df.show()"
   ]
  },
  {
   "cell_type": "markdown",
   "metadata": {},
   "source": [
    "#### 6. Select the 3 product categories with the highest percentage of spending by consumers aged 18 to 25"
   ]
  },
  {
   "cell_type": "code",
   "execution_count": 34,
   "metadata": {},
   "outputs": [
    {
     "name": "stdout",
     "output_type": "stream",
     "text": [
      "+-----------+---------------------+---------------------+--------------------+\n",
      "|   category|total_purchases_18_25|total_purchase_amount|spending_share_18_25|\n",
      "+-----------+---------------------+---------------------+--------------------+\n",
      "|   Clothing|                245.0|                790.3|                31.0|\n",
      "|     Sports|                310.5|               1802.5|               17.23|\n",
      "|Electronics|                176.0|               1174.8|               14.98|\n",
      "+-----------+---------------------+---------------------+--------------------+\n",
      "\n"
     ]
    }
   ],
   "source": [
    "top_3_categories = purchases_share_df.orderBy(col(\"spending_share_18_25\").desc()).limit(3)\n",
    "top_3_categories.show()"
   ]
  }
 ],
 "metadata": {
  "kernelspec": {
   "display_name": "Python 3",
   "language": "python",
   "name": "python3"
  },
  "language_info": {
   "codemirror_mode": {
    "name": "ipython",
    "version": 3
   },
   "file_extension": ".py",
   "mimetype": "text/x-python",
   "name": "python",
   "nbconvert_exporter": "python",
   "pygments_lexer": "ipython3",
   "version": "3.10.12"
  }
 },
 "nbformat": 4,
 "nbformat_minor": 2
}
